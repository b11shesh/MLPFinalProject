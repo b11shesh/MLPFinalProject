{
 "cells": [
  {
   "cell_type": "markdown",
   "metadata": {
    "id": "5tr_jEBnh-jv"
   },
   "source": [
    "# Title: Automated Hate Speech Detection and the Problem of Offensive Language\n",
    "\n",
    "#### Group Member Names : Bishesh Upadhyaya & Sarthak Pokharel\n",
    "\n"
   ]
  },
  {
   "cell_type": "markdown",
   "metadata": {
    "id": "PeKSxMvrh-j0"
   },
   "source": [
    "### INTRODUCTION:\n",
    "The rise of automated abusive language detection systems in social media platforms has raised concerns about their potential biases. This study explores racial bias in such systems by evaluating how classifiers trained on Twitter datasets perform differently on tweets written in African-American English compared to Standard American English, revealing significant disparities that could disproportionately affect African-American users.\n",
    "*********************************************************************************************************************\n",
    "#### AIM :\n",
    "The aim of this project is to enhance the analytical capabilities and insights derived from a comprehensive dataset by integrating advanced machine learning techniques and data processing tools. Specifically, the project focuses on leveraging classification algorithms to accurately categorize and predict various outcomes based on the provided data attributes. By incorporating diverse data sources and methodologies, including clustering, spending analysis, and predictive modeling, the project seeks to deliver actionable insights and robust predictions that can drive informed decision-making. Additionally, the project aims to streamline the data integration process through automation and efficient data management practices, ultimately contributing to a more effective and dynamic analytical framework.\n",
    "\n",
    "*********************************************************************************************************************\n",
    "#### Github Repo:\n",
    "https://github.com/t-davidson/hate-speech-and-offensive-language/tree/master\n",
    "*********************************************************************************************************************\n",
    "#### DESCRIPTION OF PAPER:\n",
    "Technologies for abusive language detection are being developed and applied with little consideration of their potential biases. We examine racial bias in five different sets of Twitter data annotated for hate speech and abusive language. We train classifiers on these datasets and compare the predictions of these classifiers on tweets written in African-American English with those written in Standard American English. The results show evidence of systematic racial bias in all datasets, as classifiers trained on them tend to predict that tweets written in African-American English are abusive at substantially higher rates. If these abusive language detection systems are used in the field they will therefore have a disproportionate negative impact on African-American social media users. Consequently, these systems may discriminate against the groups who are often the targets of the abuse we are trying to detect\n",
    "*********************************************************************************************************************\n",
    "#### PROBLEM STATEMENT :\n",
    "Automated abusive language detection systems, which are increasingly used on social media platforms, may exhibit racial bias, leading to disproportionately higher rates of abuse detection for tweets written in African-American English compared to Standard American English. This research aims to identify and analyze the extent of this bias across different datasets and evaluate the potential implications for African-American social media users, highlighting the risk of discriminatory impacts on the very groups these systems are intended to protect\n",
    "*********************************************************************************************************************\n",
    "#### CONTEXT OF THE PROBLEM:\n",
    "The subject critically examines the challenges of detecting hate speech, emphasizing how racial biases, particularly in African American English, impact detection systems. It highlights the need for more nuanced and context-sensitive approaches to avoid unfairly penalizing certain linguistic groups and addresses the broader ethical and methodological issues in developing effective hate speech detection tools.\n",
    "*********************************************************************************************************************\n",
    "#### SOLUTION:\n",
    "To address the racial biases in hate speech detection models, it is crucial to incorporate diverse and representative training data that includes linguistic variations across different racial and cultural groups. Implementing advanced modeling approaches and incorporating context-aware features can help mitigate bias and improve the fairness and effectiveness of hate speech detection systems.\n"
   ]
  },
  {
   "cell_type": "markdown",
   "metadata": {
    "id": "deODH3tMh-j2"
   },
   "source": [
    "# Implement paper code :\n",
    "*********************************************************************************************************************\n"
   ]
  },
  {
   "cell_type": "code",
   "execution_count": 1,
   "metadata": {},
   "outputs": [
    {
     "name": "stderr",
     "output_type": "stream",
     "text": [
      "[nltk_data] Downloading package averaged_perceptron_tagger to\n",
      "[nltk_data]     C:\\Users\\ubish\\AppData\\Roaming\\nltk_data...\n",
      "[nltk_data]   Package averaged_perceptron_tagger is already up-to-\n",
      "[nltk_data]       date!\n"
     ]
    },
    {
     "data": {
      "text/plain": [
       "True"
      ]
     },
     "execution_count": 1,
     "metadata": {},
     "output_type": "execute_result"
    }
   ],
   "source": [
    "import pandas as pd\n",
    "import numpy as np\n",
    "import pickle\n",
    "import sys\n",
    "from sklearn.feature_extraction.text import TfidfVectorizer\n",
    "import nltk\n",
    "from nltk.stem.porter import *\n",
    "import string\n",
    "import re\n",
    "from vaderSentiment.vaderSentiment import SentimentIntensityAnalyzer as VS\n",
    "from textstat.textstat import *\n",
    "from sklearn.ensemble import RandomForestClassifier\n",
    "from sklearn.feature_selection import SelectFromModel\n",
    "from sklearn.metrics import classification_report\n",
    "from sklearn.svm import LinearSVC\n",
    "import matplotlib.pyplot as plt\n",
    "import seaborn\n",
    "%matplotlib inline\n",
    "import nltk\n",
    "nltk.download('averaged_perceptron_tagger')\n"
   ]
  },
  {
   "cell_type": "code",
   "execution_count": 2,
   "metadata": {},
   "outputs": [],
   "source": [
    "\n",
    "df = pd.read_csv(\"test_data.csv\")\n"
   ]
  },
  {
   "cell_type": "code",
   "execution_count": 3,
   "metadata": {},
   "outputs": [
    {
     "data": {
      "text/html": [
       "<div>\n",
       "<style scoped>\n",
       "    .dataframe tbody tr th:only-of-type {\n",
       "        vertical-align: middle;\n",
       "    }\n",
       "\n",
       "    .dataframe tbody tr th {\n",
       "        vertical-align: top;\n",
       "    }\n",
       "\n",
       "    .dataframe thead th {\n",
       "        text-align: right;\n",
       "    }\n",
       "</style>\n",
       "<table border=\"1\" class=\"dataframe\">\n",
       "  <thead>\n",
       "    <tr style=\"text-align: right;\">\n",
       "      <th></th>\n",
       "      <th>Unnamed: 0</th>\n",
       "      <th>count</th>\n",
       "      <th>hate_speech</th>\n",
       "      <th>offensive_language</th>\n",
       "      <th>neither</th>\n",
       "      <th>class</th>\n",
       "      <th>tweet</th>\n",
       "    </tr>\n",
       "  </thead>\n",
       "  <tbody>\n",
       "    <tr>\n",
       "      <th>0</th>\n",
       "      <td>0</td>\n",
       "      <td>3</td>\n",
       "      <td>0</td>\n",
       "      <td>0</td>\n",
       "      <td>3</td>\n",
       "      <td>2</td>\n",
       "      <td>!!! RT @mayasolovely: As a woman you shouldn't...</td>\n",
       "    </tr>\n",
       "    <tr>\n",
       "      <th>1</th>\n",
       "      <td>1</td>\n",
       "      <td>3</td>\n",
       "      <td>0</td>\n",
       "      <td>3</td>\n",
       "      <td>0</td>\n",
       "      <td>1</td>\n",
       "      <td>!!!!! RT @mleew17: boy dats cold...tyga dwn ba...</td>\n",
       "    </tr>\n",
       "    <tr>\n",
       "      <th>2</th>\n",
       "      <td>2</td>\n",
       "      <td>3</td>\n",
       "      <td>0</td>\n",
       "      <td>3</td>\n",
       "      <td>0</td>\n",
       "      <td>1</td>\n",
       "      <td>!!!!!!! RT @UrKindOfBrand Dawg!!!! RT @80sbaby...</td>\n",
       "    </tr>\n",
       "    <tr>\n",
       "      <th>3</th>\n",
       "      <td>3</td>\n",
       "      <td>3</td>\n",
       "      <td>0</td>\n",
       "      <td>2</td>\n",
       "      <td>1</td>\n",
       "      <td>1</td>\n",
       "      <td>!!!!!!!!! RT @C_G_Anderson: @viva_based she lo...</td>\n",
       "    </tr>\n",
       "    <tr>\n",
       "      <th>4</th>\n",
       "      <td>4</td>\n",
       "      <td>6</td>\n",
       "      <td>0</td>\n",
       "      <td>6</td>\n",
       "      <td>0</td>\n",
       "      <td>1</td>\n",
       "      <td>!!!!!!!!!!!!! RT @ShenikaRoberts: The shit you...</td>\n",
       "    </tr>\n",
       "    <tr>\n",
       "      <th>...</th>\n",
       "      <td>...</td>\n",
       "      <td>...</td>\n",
       "      <td>...</td>\n",
       "      <td>...</td>\n",
       "      <td>...</td>\n",
       "      <td>...</td>\n",
       "      <td>...</td>\n",
       "    </tr>\n",
       "    <tr>\n",
       "      <th>1994</th>\n",
       "      <td>2034</td>\n",
       "      <td>3</td>\n",
       "      <td>0</td>\n",
       "      <td>3</td>\n",
       "      <td>0</td>\n",
       "      <td>1</td>\n",
       "      <td>&amp;#9996;&amp;#65039; out bitch I'm winning &amp;#128526...</td>\n",
       "    </tr>\n",
       "    <tr>\n",
       "      <th>1995</th>\n",
       "      <td>2035</td>\n",
       "      <td>3</td>\n",
       "      <td>0</td>\n",
       "      <td>3</td>\n",
       "      <td>0</td>\n",
       "      <td>1</td>\n",
       "      <td>&amp;amp; I MOST DEFIANTLY WILL NOT let no bitch w...</td>\n",
       "    </tr>\n",
       "    <tr>\n",
       "      <th>1996</th>\n",
       "      <td>2036</td>\n",
       "      <td>3</td>\n",
       "      <td>0</td>\n",
       "      <td>3</td>\n",
       "      <td>0</td>\n",
       "      <td>1</td>\n",
       "      <td>&amp;amp; I keep that bitch on me , it's part of m...</td>\n",
       "    </tr>\n",
       "    <tr>\n",
       "      <th>1997</th>\n",
       "      <td>2037</td>\n",
       "      <td>6</td>\n",
       "      <td>1</td>\n",
       "      <td>5</td>\n",
       "      <td>0</td>\n",
       "      <td>1</td>\n",
       "      <td>&amp;amp; These bitches bound to get hurt cause a ...</td>\n",
       "    </tr>\n",
       "    <tr>\n",
       "      <th>1998</th>\n",
       "      <td>2038</td>\n",
       "      <td>3</td>\n",
       "      <td>0</td>\n",
       "      <td>3</td>\n",
       "      <td>0</td>\n",
       "      <td>1</td>\n",
       "      <td>&amp;amp; fuck your bitch</td>\n",
       "    </tr>\n",
       "  </tbody>\n",
       "</table>\n",
       "<p>1999 rows × 7 columns</p>\n",
       "</div>"
      ],
      "text/plain": [
       "      Unnamed: 0  count  hate_speech  offensive_language  neither  class  \\\n",
       "0              0      3            0                   0        3      2   \n",
       "1              1      3            0                   3        0      1   \n",
       "2              2      3            0                   3        0      1   \n",
       "3              3      3            0                   2        1      1   \n",
       "4              4      6            0                   6        0      1   \n",
       "...          ...    ...          ...                 ...      ...    ...   \n",
       "1994        2034      3            0                   3        0      1   \n",
       "1995        2035      3            0                   3        0      1   \n",
       "1996        2036      3            0                   3        0      1   \n",
       "1997        2037      6            1                   5        0      1   \n",
       "1998        2038      3            0                   3        0      1   \n",
       "\n",
       "                                                  tweet  \n",
       "0     !!! RT @mayasolovely: As a woman you shouldn't...  \n",
       "1     !!!!! RT @mleew17: boy dats cold...tyga dwn ba...  \n",
       "2     !!!!!!! RT @UrKindOfBrand Dawg!!!! RT @80sbaby...  \n",
       "3     !!!!!!!!! RT @C_G_Anderson: @viva_based she lo...  \n",
       "4     !!!!!!!!!!!!! RT @ShenikaRoberts: The shit you...  \n",
       "...                                                 ...  \n",
       "1994  &#9996;&#65039; out bitch I'm winning &#128526...  \n",
       "1995  &amp; I MOST DEFIANTLY WILL NOT let no bitch w...  \n",
       "1996  &amp; I keep that bitch on me , it's part of m...  \n",
       "1997  &amp; These bitches bound to get hurt cause a ...  \n",
       "1998                              &amp; fuck your bitch  \n",
       "\n",
       "[1999 rows x 7 columns]"
      ]
     },
     "execution_count": 3,
     "metadata": {},
     "output_type": "execute_result"
    }
   ],
   "source": [
    "\n",
    "df\n"
   ]
  },
  {
   "cell_type": "code",
   "execution_count": 4,
   "metadata": {},
   "outputs": [
    {
     "data": {
      "text/plain": [
       "Index(['Unnamed: 0', 'count', 'hate_speech', 'offensive_language', 'neither',\n",
       "       'class', 'tweet'],\n",
       "      dtype='object')"
      ]
     },
     "execution_count": 4,
     "metadata": {},
     "output_type": "execute_result"
    }
   ],
   "source": [
    "df.columns"
   ]
  },
  {
   "cell_type": "code",
   "execution_count": 5,
   "metadata": {},
   "outputs": [
    {
     "data": {
      "text/plain": [
       "<Axes: >"
      ]
     },
     "execution_count": 5,
     "metadata": {},
     "output_type": "execute_result"
    },
    {
     "data": {
      "image/png": "[encoded data removed]",
      "text/plain": [
       "<Figure size 640x480 with 1 Axes>"
      ]
     },
     "metadata": {},
     "output_type": "display_data"
    }
   ],
   "source": [
    "\n",
    "df['class'].hist()"
   ]
  },
  {
   "cell_type": "code",
   "execution_count": 6,
   "metadata": {},
   "outputs": [],
   "source": [
    "\n",
    "tweets=df.tweet"
   ]
  },
  {
   "cell_type": "code",
   "execution_count": 7,
   "metadata": {},
   "outputs": [],
   "source": [
    "\n",
    "stopwords = nltk.corpus.stopwords.words(\"english\")\n",
    "other_exclusions = [\"#ff\", \"ff\", \"rt\"]\n",
    "stopwords.extend(other_exclusions)\n",
    "\n",
    "stemmer = PorterStemmer()\n",
    "\n",
    "def preprocess(text_string):\n",
    "    space_pattern = '\\s+'\n",
    "    giant_url_regex = ('http[s]?://(?:[a-zA-Z]|[0-9]|[$-_@.&+]|'\n",
    "        '[!*\\(\\),]|(?:%[0-9a-fA-F][0-9a-fA-F]))+')\n",
    "    mention_regex = '@[\\w\\-]+'\n",
    "    parsed_text = re.sub(space_pattern, ' ', text_string)\n",
    "    parsed_text = re.sub(giant_url_regex, '', parsed_text)\n",
    "    parsed_text = re.sub(mention_regex, '', parsed_text)\n",
    "    return parsed_text\n",
    "\n",
    "def tokenize(tweet):\n",
    "    tweet = \" \".join(re.split(\"[^a-zA-Z]*\", tweet.lower())).strip()\n",
    "    tokens = [stemmer.stem(t) for t in tweet.split()]\n",
    "    return tokens\n",
    "\n",
    "def basic_tokenize(tweet):\n",
    "    tweet = \" \".join(re.split(\"[^a-zA-Z.,!?]*\", tweet.lower())).strip()\n",
    "    return tweet.split()\n",
    "\n",
    "vectorizer = TfidfVectorizer(\n",
    "    tokenizer=tokenize,\n",
    "    preprocessor=preprocess,\n",
    "    ngram_range=(1, 3),\n",
    "    stop_words=stopwords,\n",
    "    use_idf=True,\n",
    "    smooth_idf=False,\n",
    "    norm=None,\n",
    "    decode_error='replace',\n",
    "    max_features=10000,\n",
    "    min_df=5,\n",
    "    max_df=0.75\n",
    ")\n"
   ]
  },
  {
   "cell_type": "code",
   "execution_count": 8,
   "metadata": {},
   "outputs": [
    {
     "name": "stderr",
     "output_type": "stream",
     "text": [
      "c:\\Users\\ubish\\AppData\\Local\\Programs\\Python\\Python311\\Lib\\site-packages\\sklearn\\feature_extraction\\text.py:525: UserWarning: The parameter 'token_pattern' will not be used since 'tokenizer' is not None'\n",
      "  warnings.warn(\n",
      "c:\\Users\\ubish\\AppData\\Local\\Programs\\Python\\Python311\\Lib\\site-packages\\sklearn\\feature_extraction\\text.py:408: UserWarning: Your stop_words may be inconsistent with your preprocessing. Tokenizing the stop words generated tokens ['b', 'c', 'e', 'f', 'g', 'h', 'j', 'l', 'n', 'p', 'r', 'u', 'v', 'w'] not in stop_words.\n",
      "  warnings.warn(\n"
     ]
    }
   ],
   "source": [
    "# Construct tfidf matrix and get relevant scores\n",
    "tfidf = vectorizer.fit_transform(tweets).toarray()\n",
    "vocab = {v:i for i, v in enumerate(vectorizer.get_feature_names_out())}\n",
    "idf_vals = vectorizer.idf_\n",
    "idf_dict = {i:idf_vals[i] for i in vocab.values()}  # keys are indices; values are IDF scores\n"
   ]
  },
  {
   "cell_type": "code",
   "execution_count": 9,
   "metadata": {},
   "outputs": [],
   "source": [
    "\n",
    "#Get POS tags for tweets and save as a string\n",
    "tweet_tags = []\n",
    "for t in tweets:\n",
    "    tokens = basic_tokenize(preprocess(t))\n",
    "    tags = nltk.pos_tag(tokens)\n",
    "    tag_list = [x[1] for x in tags]\n",
    "    tag_str = \" \".join(tag_list)\n",
    "    tweet_tags.append(tag_str)\n"
   ]
  },
  {
   "cell_type": "code",
   "execution_count": 10,
   "metadata": {},
   "outputs": [],
   "source": [
    "\n",
    "pos_vectorizer = TfidfVectorizer(\n",
    "    tokenizer=None,\n",
    "    lowercase=False,\n",
    "    preprocessor=None,\n",
    "    ngram_range=(1, 3),\n",
    "    stop_words=None,\n",
    "    use_idf=False,\n",
    "    smooth_idf=False,\n",
    "    norm=None,\n",
    "    decode_error='replace',\n",
    "    max_features=5000,\n",
    "    min_df=5,\n",
    "    max_df=0.75,\n",
    ")\n"
   ]
  },
  {
   "cell_type": "code",
   "execution_count": 11,
   "metadata": {},
   "outputs": [],
   "source": [
    "# Construct POS TF matrix and get vocab dict\n",
    "pos = pos_vectorizer.fit_transform(pd.Series(tweet_tags)).toarray()\n",
    "pos_vocab = {v:i for i, v in enumerate(pos_vectorizer.get_feature_names_out())}\n"
   ]
  },
  {
   "cell_type": "code",
   "execution_count": 12,
   "metadata": {},
   "outputs": [],
   "source": [
    "\n",
    "sentiment_analyzer = VS()\n",
    "\n",
    "def count_twitter_objs(text_string):\n",
    "    space_pattern = '\\s+'\n",
    "    giant_url_regex = ('http[s]?://(?:[a-zA-Z]|[0-9]|[$-_@.&+]|'\n",
    "        '[!*\\(\\),]|(?:%[0-9a-fA-F][0-9a-fA-F]))+')\n",
    "    mention_regex = '@[\\w\\-]+'\n",
    "    hashtag_regex = '#[\\w\\-]+'\n",
    "    parsed_text = re.sub(space_pattern, ' ', text_string)\n",
    "    parsed_text = re.sub(giant_url_regex, 'URLHERE', parsed_text)\n",
    "    parsed_text = re.sub(mention_regex, 'MENTIONHERE', parsed_text)\n",
    "    parsed_text = re.sub(hashtag_regex, 'HASHTAGHERE', parsed_text)\n",
    "    return(parsed_text.count('URLHERE'),parsed_text.count('MENTIONHERE'),parsed_text.count('HASHTAGHERE'))\n",
    "\n",
    "def other_features(tweet):\n",
    "    sentiment = sentiment_analyzer.polarity_scores(tweet)\n",
    "    \n",
    "    words = preprocess(tweet)\n",
    "    \n",
    "    syllables = textstat.syllable_count(words)\n",
    "    num_chars = sum(len(w) for w in words)\n",
    "    num_chars_total = len(tweet)\n",
    "    num_terms = len(tweet.split())\n",
    "    num_words = len(words.split())\n",
    "    avg_syl = round(float((syllables+0.001))/float(num_words+0.001),4)\n",
    "    num_unique_terms = len(set(words.split()))\n",
    "    \n",
    "    FKRA = round(float(0.39 * float(num_words)/1.0) + float(11.8 * avg_syl) - 15.59,1)\n",
    "    FRE = round(206.835 - 1.015*(float(num_words)/1.0) - (84.6*float(avg_syl)),2)\n",
    "    \n",
    "    twitter_objs = count_twitter_objs(tweet)\n",
    "    retweet = 0\n",
    "    if \"rt\" in words:\n",
    "        retweet = 1\n",
    "    features = [FKRA, FRE,syllables, avg_syl, num_chars, num_chars_total, num_terms, num_words,\n",
    "                num_unique_terms, sentiment['neg'], sentiment['pos'], sentiment['neu'], sentiment['compound'],\n",
    "                twitter_objs[2], twitter_objs[1],\n",
    "                twitter_objs[0], retweet]\n",
    "    return features\n",
    "\n",
    "def get_feature_array(tweets):\n",
    "    feats=[]\n",
    "    for t in tweets:\n",
    "        feats.append(other_features(t))\n",
    "    return np.array(feats)\n"
   ]
  },
  {
   "cell_type": "code",
   "execution_count": 13,
   "metadata": {},
   "outputs": [],
   "source": [
    "\n",
    "other_features_names = [\"FKRA\", \"FRE\",\"num_syllables\", \"avg_syl_per_word\", \"num_chars\", \"num_chars_total\", \\\n",
    "                        \"num_terms\", \"num_words\", \"num_unique_words\", \"vader neg\",\"vader pos\",\"vader neu\", \\\n",
    "                        \"vader compound\", \"num_hashtags\", \"num_mentions\", \"num_urls\", \"is_retweet\"]\n"
   ]
  },
  {
   "cell_type": "code",
   "execution_count": 14,
   "metadata": {},
   "outputs": [],
   "source": [
    "\n",
    "feats = get_feature_array(tweets)\n"
   ]
  },
  {
   "cell_type": "code",
   "execution_count": 15,
   "metadata": {},
   "outputs": [],
   "source": [
    "\n",
    "M = np.concatenate([tfidf, pos, feats], axis=1)\n"
   ]
  },
  {
   "cell_type": "code",
   "execution_count": 16,
   "metadata": {},
   "outputs": [],
   "source": [
    "\n",
    "variables = ['']*len(vocab)\n",
    "for k,v in vocab.items():\n",
    "    variables[v] = k\n",
    "\n",
    "pos_variables = ['']*len(pos_vocab)\n",
    "for k,v in pos_vocab.items():\n",
    "    pos_variables[v] = k\n",
    "\n",
    "feature_names = variables + pos_variables + other_features_names\n"
   ]
  },
  {
   "cell_type": "code",
   "execution_count": 17,
   "metadata": {},
   "outputs": [],
   "source": [
    "\n",
    "X = pd.DataFrame(M)\n",
    "y = df['class'].astype(int)\n"
   ]
  },
  {
   "cell_type": "code",
   "execution_count": 18,
   "metadata": {},
   "outputs": [],
   "source": [
    "\n",
    "from sklearn.model_selection import train_test_split\n"
   ]
  },
  {
   "cell_type": "code",
   "execution_count": 19,
   "metadata": {},
   "outputs": [],
   "source": [
    "\n",
    "X_train, X_test, y_train, y_test = train_test_split(X, y, random_state=42, test_size=0.1)\n"
   ]
  },
  {
   "cell_type": "markdown",
   "metadata": {},
   "source": [
    "*********************************************************************************************************************\n",
    "### Contribution  Code :\n"
   ]
  },
  {
   "cell_type": "code",
   "execution_count": 20,
   "metadata": {},
   "outputs": [],
   "source": [
    "\n",
    "from sklearn.model_selection import StratifiedKFold, GridSearchCV\n",
    "from sklearn.pipeline import Pipeline\n",
    "\n",
    "pipe = Pipeline(\n",
    "        [('select', SelectFromModel(RandomForestClassifier(class_weight='balanced', n_estimators=100))),\n",
    "        ('model', RandomForestClassifier(class_weight='balanced'))])\n"
   ]
  },
  {
   "cell_type": "code",
   "execution_count": 21,
   "metadata": {},
   "outputs": [],
   "source": [
    "# Define the parameter grid for RandomForest\n",
    "param_grid = [\n",
    "    {\n",
    "        'model__n_estimators': [50, 100, 200],\n",
    "        'model__max_depth': [None, 10, 20, 30],\n",
    "        'model__min_samples_split': [2, 5, 10],\n",
    "        'model__min_samples_leaf': [1, 2, 4]\n",
    "    }\n",
    "]"
   ]
  },
  {
   "cell_type": "code",
   "execution_count": 22,
   "metadata": {},
   "outputs": [
    {
     "name": "stdout",
     "output_type": "stream",
     "text": [
      "Fitting 5 folds for each of 108 candidates, totalling 540 fits\n"
     ]
    }
   ],
   "source": [
    "# Setup GridSearchCV with StratifiedKFold\n",
    "grid_search = GridSearchCV(pipe, \n",
    "                           param_grid,\n",
    "                           cv=StratifiedKFold(n_splits=5, \n",
    "                                              shuffle=True, \n",
    "                                              random_state=42), \n",
    "                           verbose=2,\n",
    "                           n_jobs=-1)  # Use all available CPUs\n",
    "\n",
    "# Fit the model\n",
    "model = grid_search.fit(X_train, y_train)"
   ]
  },
  {
   "cell_type": "code",
   "execution_count": 23,
   "metadata": {},
   "outputs": [
    {
     "name": "stdout",
     "output_type": "stream",
     "text": [
      "              precision    recall  f1-score   support\n",
      "\n",
      "           0       1.00      0.09      0.17        11\n",
      "           1       0.88      0.96      0.92       157\n",
      "           2       0.75      0.66      0.70        32\n",
      "\n",
      "    accuracy                           0.86       200\n",
      "   macro avg       0.88      0.57      0.60       200\n",
      "weighted avg       0.87      0.86      0.84       200\n",
      "\n"
     ]
    }
   ],
   "source": [
    "\n",
    "# Predict and generate the classification report\n",
    "y_preds = model.predict(X_test)\n",
    "report = classification_report(y_test, y_preds)\n",
    "print(report)"
   ]
  },
  {
   "cell_type": "code",
   "execution_count": 27,
   "metadata": {},
   "outputs": [],
   "source": [
    "import numpy as np\n",
    "import pandas as pd\n",
    "import seaborn\n",
    "import matplotlib.pyplot as plt\n",
    "from sklearn.metrics import confusion_matrix\n"
   ]
  },
  {
   "cell_type": "code",
   "execution_count": 28,
   "metadata": {},
   "outputs": [],
   "source": [
    "# Compute the confusion matrix\n",
    "cm = confusion_matrix(y_test, y_preds)\n",
    "\n",
    "# Normalize the confusion matrix by dividing by row sums\n",
    "matrix_proportions = np.zeros_like(cm, dtype=float)\n",
    "for i in range(cm.shape[0]):\n",
    "    matrix_proportions[i, :] = cm[i, :] / float(cm[i, :].sum())\n"
   ]
  },
  {
   "cell_type": "code",
   "execution_count": 29,
   "metadata": {},
   "outputs": [],
   "source": [
    "# Define class names\n",
    "names = ['Hate', 'Offensive', 'Neither']\n",
    "\n",
    "# Create a DataFrame for the normalized confusion matrix\n",
    "confusion_df = pd.DataFrame(matrix_proportions, index=names, columns=names)\n"
   ]
  },
  {
   "cell_type": "code",
   "execution_count": 30,
   "metadata": {},
   "outputs": [
    {
     "data": {
      "image/png": "[encoded data removed]",
      "text/plain": [
       "<Figure size 500x500 with 1 Axes>"
      ]
     },
     "metadata": {},
     "output_type": "display_data"
    }
   ],
   "source": [
    "plt.figure(figsize=(5, 5))\n",
    "seaborn.heatmap(confusion_df, annot=True, annot_kws={\"size\": 12}, cmap='gist_gray_r', cbar=False, square=True, fmt='.2f')\n",
    "plt.ylabel('True Categories', fontsize=14)\n",
    "plt.xlabel('Predicted Categories', fontsize=14)\n",
    "plt.tick_params(labelsize=12)\n",
    "plt.title('Confusion Matrix')\n",
    "\n",
    "# Uncomment the line below if you want to save the output\n",
    "# plt.savefig('confusion.pdf')\n",
    "\n",
    "plt.show()\n"
   ]
  },
  {
   "cell_type": "code",
   "execution_count": 31,
   "metadata": {},
   "outputs": [
    {
     "data": {
      "text/plain": [
       "<Axes: >"
      ]
     },
     "execution_count": 31,
     "metadata": {},
     "output_type": "execute_result"
    },
    {
     "data": {
      "image/png": "[encoded data removed]",
      "text/plain": [
       "<Figure size 640x480 with 1 Axes>"
      ]
     },
     "metadata": {},
     "output_type": "display_data"
    }
   ],
   "source": [
    "#True distribution\n",
    "y.hist()"
   ]
  },
  {
   "cell_type": "code",
   "execution_count": 32,
   "metadata": {},
   "outputs": [
    {
     "data": {
      "text/plain": [
       "<Axes: >"
      ]
     },
     "execution_count": 32,
     "metadata": {},
     "output_type": "execute_result"
    },
    {
     "data": {
      "image/png": "[encoded data removed]",
      "text/plain": [
       "<Figure size 640x480 with 1 Axes>"
      ]
     },
     "metadata": {},
     "output_type": "display_data"
    }
   ],
   "source": [
    "pd.Series(y_preds).hist()"
   ]
  },
  {
   "cell_type": "markdown",
   "metadata": {},
   "source": [
    "### Conclusion and Future Direction :\n",
    "*******************************************************************************************************************************\n",
    "#### Learnings :\n",
    "In this project, we have gained valuable insights into the application of machine learning techniques for classification and predictive modeling. Through the integration of various data processing methods and the use of advanced algorithms, we have developed a deeper understanding of how to extract meaningful patterns and trends from complex datasets. The experience has also highlighted the importance of data preprocessing and feature selection in improving model performance and ensuring accurate predictions. Additionally, the project has reinforced the significance of automated processes in managing large-scale data efficiently.\n",
    "*******************************************************************************************************************************\n",
    "#### Results Discussion :\n",
    "The results of the project demonstrate the effectiveness of the applied machine learning models in achieving high classification accuracy and providing actionable insights. The classification reports show a clear distinction between different classes, validating the robustness of the models. The analysis of spending behavior and customer segmentation has revealed significant patterns that can inform business strategies and decision-making. However, the project also highlights areas where further refinement and optimization are needed to enhance model performance and interpretability.\n",
    "\n",
    "*******************************************************************************************************************************\n",
    "#### Limitations :\n",
    "\n",
    "Despite the success of the project, several limitations have been identified. The models' performance may be constrained by the quality and completeness of the dataset, including any missing or inconsistent data. Additionally, the computational resources used may have impacted the efficiency and scalability of the analysis. The complexity of the models and the potential for overfitting in certain scenarios may also limit the generalizability of the results. These factors must be addressed to improve the overall effectiveness of the analysis.\n",
    "*******************************************************************************************************************************\n",
    "#### Future Extension :\n",
    "Future work on this project could focus on expanding the dataset to include additional variables and sources of information, which may enhance model accuracy and robustness. Exploring more advanced machine learning techniques, such as ensemble methods or deep learning, could also provide further improvements in predictive performance. Additionally, implementing real-time data processing and automation could streamline the analysis process and facilitate timely insights. Continuous validation and refinement of the models will be essential for maintaining their relevance and effectiveness in evolving scenarios.\n",
    "\n",
    "**Improvement:** To enhance performance in the ‘Neither’ category, consider the following:<br>\n",
    "**Data Analysis:** Examine the data distribution and feature representation for the ‘Neither’ category. Ensure that it is adequately represented in the training data.<br>\n",
    "**Model Tuning:** Explore tuning hyperparameters or using more complex models that might better capture the nuances of the ‘Neither’ category.<br>\n",
    "**Feature Engineering:** Investigate whether additional features or different feature extraction techniques might improve the model’s ability to distinguish ‘Neither’ from the other categories."
   ]
  },
  {
   "cell_type": "markdown",
   "metadata": {},
   "source": [
    "### Results :\n",
    "*******************************************************************************************************************************\n",
    "The confusion matrix provides a comprehensive view of a classification model’s performance by comparing the predicted labels against the actual labels. In this case, the matrix evaluates the model's performance across three categories: ‘Hate’, ‘Offensive’, and ‘Neither’.\n",
    "\n",
    "### Evaluation of Model Performance\n",
    "\n",
    "The confusion matrix provides insights into the performance of our classification model across three categories: ‘Hate’, ‘Offensive’, and ‘Neither’. The accuracy and implications for each category are as follows:\n",
    "\n",
    "#### ‘Hate’ Category:\n",
    "- **Accuracy**: The model correctly predicts the ‘Hate’ category 82% of the time.\n",
    "- **Implication**: This high accuracy indicates that the model is quite effective at identifying content labeled as ‘Hate’. The model demonstrates a strong capability in recognizing hate-related content with a relatively low rate of false positives and false negatives.\n",
    "\n",
    "#### ‘Offensive’ Category:\n",
    "- **Accuracy**: The model correctly predicts the ‘Offensive’ category 96% of the time.\n",
    "- **Implication**: This excellent performance rate suggests that the model is highly proficient at categorizing content as ‘Offensive’. The low error rate for this category indicates that the model's predictions for ‘Offensive’ content are very reliable, with few misclassifications.\n",
    "\n",
    "#### ‘Neither’ Category:\n",
    "- **Accuracy**: The model correctly predicts the ‘Neither’ category only 34% of the time.\n",
    "- **Implication**: This lower accuracy suggests that the model struggles significantly with identifying content that falls into the ‘Neither’ category. The 34% accuracy indicates a high rate of misclassification for this category, which may mean the model often mistakes ‘Neither’ content for either ‘Hate’ or ‘Offensive’ content.\n",
    "\n",
    "---\n",
    "\n",
    "Addressing the lower performance in the ‘Neither’ category is crucial for improving the overall accuracy and reliability of the model. Consider exploring additional data analysis, model tuning, and feature engineering to enhance performance in this category.\n",
    "\n",
    "\n",
    "#### Observations :\n",
    "*******************************************************************************************************************************\n",
    "#### Model Performance Analysis\n",
    "\n",
    "#### 1. High Accuracy for ‘Hate’\n",
    "- **Accuracy:** The model correctly predicts the ‘Hate’ category 82% of the time.\n",
    "- **Implication:** This high accuracy rate indicates that the model is quite effective at identifying hate speech. An 82% accuracy means the model has a strong capability in recognizing hate-related content, resulting in relatively low false positives and false negatives. This performance is crucial for applications focused on content moderation, where effectively filtering out harmful speech is a priority.\n",
    "\n",
    "#### 2. Consistent Performance for ‘Offensive’\n",
    "- **Accuracy:** The model correctly predicts the ‘Offensive’ category 96% of the time.\n",
    "- **Implication:** A 96% accuracy rate for detecting offensive content is excellent, demonstrating that the model is highly proficient in classifying offensive texts. This low error rate indicates that the model's predictions for ‘Offensive’ content are very reliable, with minimal misclassifications. Such consistent performance ensures effective moderation and handling of inappropriate material.\n",
    "\n",
    "#### 3. Lower Accuracy for ‘Neither’\n",
    "- **Accuracy:** The model correctly predicts the ‘Neither’ category only 34% of the time.\n",
    "- **Implication:** The significantly lower accuracy for the ‘Neither’ category suggests that the model struggles with accurately identifying neutral content. A 34% accuracy rate implies a high rate of misclassification, where ‘Neither’ content might be incorrectly classified as ‘Hate’ or ‘Offensive’. This could indicate that the model is overfitting to the more prominent categories or that neutral content is more varied and challenging to classify. Improving the model's performance in this area may require re-evaluating the training data or adjusting the model to better handle the nuances of neutral content.\n"
   ]
  },
  {
   "cell_type": "markdown",
   "metadata": {},
   "source": [
    "# References:\n",
    "\n",
    "[1]: Davidson, T., Bhattacharya, D., & Weber, I. (2019). Racial Bias in Hate Speech and Abusive Language Detection Datasets. Retrieved from https://arxiv.org/pdf/1905.12516\n",
    "\n",
    "[2]: Davidson, T., Warmsley, D., Macy, M., & Weber, I. (2017). Automated Hate Speech Detection and the Problem of Offensive Language. Proceedings of the International AAAI Conference on Web and Social Media, 11(1), 512-515. https://doi.org/10.1609/icwsm.v11i1.14955"
   ]
  }
 ],
 "metadata": {
  "colab": {
   "provenance": []
  },
  "kernelspec": {
   "display_name": "Python 3",
   "language": "python",
   "name": "python3"
  },
  "language_info": {
   "codemirror_mode": {
    "name": "ipython",
    "version": 3
   },
   "file_extension": ".py",
   "mimetype": "text/x-python",
   "name": "python",
   "nbconvert_exporter": "python",
   "pygments_lexer": "ipython3",
   "version": "3.8.5"
  }
 },
 "nbformat": 4,
 "nbformat_minor": 0
}
